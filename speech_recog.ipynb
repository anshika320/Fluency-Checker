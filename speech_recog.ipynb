{
 "cells": [
  {
   "cell_type": "code",
   "execution_count": 3,
   "id": "1bd06100",
   "metadata": {},
   "outputs": [],
   "source": [
    "import speech_recognition as sr\n",
    "import pyaudio as p\n",
    "import os\n",
    "import shutil\n",
    "\n",
    "def SpeechToText():\n",
    "    r=sr.Recognizer()\n",
    "    with sr.Microphone() as source:\n",
    "        r.adjust_for_ambient_noise(source)\n",
    "        print(\"Speak:\")\n",
    "        audio=r.listen(source)\n",
    "       \n",
    "        try:\n",
    "            txt=r.recognize_google(audio)\n",
    "            print(\"you said:\",txt)\n",
    "        except Exception as e:\n",
    "            print(\"Error:\"+str(e))\n",
    "        return txt\n"
   ]
  },
  {
   "cell_type": "code",
   "execution_count": null,
   "id": "25e3dfc2",
   "metadata": {},
   "outputs": [
    {
     "name": "stdout",
     "output_type": "stream",
     "text": [
      "Enter \"yes\" when you are readyyes\n",
      "Speak:\n",
      "Error:\n",
      "0.3097595114842774\n",
      "Accuracy:  0.0 %\n",
      "Enter \"yes\" when you are readyyes\n",
      "Speak:\n",
      "you said: the quick brown fox jumps over lazy dog\n",
      "0.6285332619451044\n",
      "Accuracy:  88.88888888888889 %\n",
      "Enter \"yes\" when you are readyyes\n",
      "Speak:\n",
      "you said: new marketing company\n",
      "0.14370573829260386\n",
      "Accuracy:  0.0 %\n"
     ]
    }
   ],
   "source": [
    "import speech_recognition as sr\n",
    "import pyaudio as p\n",
    "import os\n",
    "import shutil\n",
    "import time\n",
    "\n",
    "def SpeechToText():\n",
    "    r=sr.Recognizer()\n",
    "    with sr.Microphone() as source:\n",
    "        r.adjust_for_ambient_noise(source)\n",
    "        print(\"Speak:\")\n",
    "        audio=r.listen(source)\n",
    "        txt=\"Something went wrong, try again please.\"\n",
    "        try:\n",
    "            txt=r.recognize_google(audio)\n",
    "            print(\"you said:\",txt)\n",
    "        except Exception as e:\n",
    "            print(\"Error:\"+str(e))\n",
    "        return txt \n",
    "#####################################################\n",
    "    \n",
    "string = \"The new marketing campaign is slated to launch next month, pending final approval from the executive board.\"\n",
    "word_count = len(string.split())\n",
    "\n",
    "while str(input('Enter \"yes\" when you are ready')) == 'yes':\n",
    "    #str(input('Enter \"yes\" when you are ready'))\n",
    "    t0 = time.time() #start time\n",
    "    inputText = SpeechToText()\n",
    "    t1 = time.time() #stop time  \n",
    "    acc = len(set(inputText.split()) & set(string.split()))\n",
    "    acc = acc/word_count\n",
    "    timeTaken = t1 - t0\n",
    "    wordPM = (word_count/timeTaken)\n",
    "    print (wordPM) \n",
    "    print(\"Accuracy: \",acc*100,\"%\")"
   ]
  },
  {
   "cell_type": "code",
   "execution_count": null,
   "id": "aee1fa42",
   "metadata": {},
   "outputs": [],
   "source": []
  },
  {
   "cell_type": "code",
   "execution_count": null,
   "id": "dc7c429a",
   "metadata": {},
   "outputs": [],
   "source": []
  }
 ],
 "metadata": {
  "kernelspec": {
   "display_name": "Python 3 (ipykernel)",
   "language": "python",
   "name": "python3"
  },
  "language_info": {
   "codemirror_mode": {
    "name": "ipython",
    "version": 3
   },
   "file_extension": ".py",
   "mimetype": "text/x-python",
   "name": "python",
   "nbconvert_exporter": "python",
   "pygments_lexer": "ipython3",
   "version": "3.11.5"
  }
 },
 "nbformat": 4,
 "nbformat_minor": 5
}
